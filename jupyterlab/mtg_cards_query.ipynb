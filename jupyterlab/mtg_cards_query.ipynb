{
 "cells": [
  {
   "cell_type": "markdown",
   "id": "ea1ae247-fc72-4c4d-93de-0869bea3dc1d",
   "metadata": {},
   "source": [
    "## Specific Cards Queries and Discovery Zone"
   ]
  },
  {
   "cell_type": "markdown",
   "id": "8fe12077-6486-4f3b-b0d3-268b9aebc276",
   "metadata": {},
   "source": [
    "See Scryfal REST API Docs at https://scryfall.com/docs/api\n",
    "\n",
    "In this example I am just using q=cmc:12, to query all cards with converted mana cost (cmc) of 12. But there are loads of other parameters you could use instead and you can learn about them in the cards section of the API docs at the above link."
   ]
  },
  {
   "cell_type": "code",
   "execution_count": 1,
   "id": "f71f0551-6f7f-47e4-8eee-c32f1e6b96e5",
   "metadata": {},
   "outputs": [],
   "source": [
    "#Import libreries\n",
    "import requests\n",
    "import pandas as pd\n",
    "from datetime import datetime"
   ]
  },
  {
   "cell_type": "code",
   "execution_count": 2,
   "id": "37d93eb1-e4c5-4e46-915b-2ff4dac9abda",
   "metadata": {},
   "outputs": [
    {
     "name": "stdout",
     "output_type": "stream",
     "text": [
      "200\n"
     ]
    }
   ],
   "source": [
    "#Get a response object\n",
    "#api_response = requests.get('https://api.scryfall.com/cards/search?q=cmc:12')\n",
    "api_response = requests.get('https://api.scryfall.com/cards/search?q=name:Replenish')\n",
    "print(api_response.status_code) #should be 200=ok"
   ]
  },
  {
   "cell_type": "code",
   "execution_count": null,
   "id": "ef47064c-8919-4376-9a7f-bd7fa3772ab6",
   "metadata": {},
   "outputs": [],
   "source": [
    "#Look at response content\n",
    "type(api_response.content) #bytes\n",
    "\n",
    "#Translate the response object's content from bytes to dictionary object so \n",
    "#it can be easily manipulate it.\n",
    "api_json = api_response.json() #.json() converts from bytes to dictionary\n",
    "\n",
    "#Turn dictionary into a pandas Data frame.\n",
    "cards_df = pd.DataFrame(api_json[\"data\"])\n",
    "\n",
    "#[Debug]:\n",
    "#All columns types and info\n",
    "cards_df.info(verbose=True)\n",
    "#Summary of the first 3 rows\n",
    "print(cards_df.head(3))"
   ]
  },
  {
   "cell_type": "markdown",
   "id": "06820355-2807-4062-8187-73de0b5e44bf",
   "metadata": {},
   "source": [
    "#### Prices column \n",
    "(a dictionary of prices)"
   ]
  },
  {
   "cell_type": "code",
   "execution_count": 4,
   "id": "5b732118-0af3-42e9-928e-c486426be03c",
   "metadata": {},
   "outputs": [
    {
     "name": "stdout",
     "output_type": "stream",
     "text": [
      "0    {'usd': '114.42', 'usd_foil': '925.99', 'usd_e...\n",
      "Name: prices, dtype: object\n"
     ]
    }
   ],
   "source": [
    "print(cards_df['prices'].head(3))"
   ]
  },
  {
   "cell_type": "code",
   "execution_count": null,
   "id": "cf2ee047-0351-48bd-afef-b5df4467f8db",
   "metadata": {},
   "outputs": [],
   "source": []
  }
 ],
 "metadata": {
  "kernelspec": {
   "display_name": "Python 3 (ipykernel)",
   "language": "python",
   "name": "python3"
  },
  "language_info": {
   "codemirror_mode": {
    "name": "ipython",
    "version": 3
   },
   "file_extension": ".py",
   "mimetype": "text/x-python",
   "name": "python",
   "nbconvert_exporter": "python",
   "pygments_lexer": "ipython3",
   "version": "3.10.4"
  }
 },
 "nbformat": 4,
 "nbformat_minor": 5
}
