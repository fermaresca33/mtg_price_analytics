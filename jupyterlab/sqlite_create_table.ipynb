{
 "cells": [
  {
   "cell_type": "markdown",
   "id": "d66b7624-a512-4661-b903-384479da3888",
   "metadata": {},
   "source": [
    "# Creates the \"mtg_cards.db\" and the table to store Scryfall API information"
   ]
  },
  {
   "cell_type": "markdown",
   "id": "ae663bf7-80d6-42f6-9d5f-6bf0152dea85",
   "metadata": {},
   "source": [
    "You need to create the db and the table only the first time. After that you just run the code in \"mtg_data_fetch\" to get new data and to update the table."
   ]
  },
  {
   "cell_type": "code",
   "execution_count": 5,
   "id": "7293f8f3-a513-4100-b3e8-e3e141444886",
   "metadata": {},
   "outputs": [],
   "source": [
    "#Import libreries\n",
    "import sqlite3"
   ]
  },
  {
   "cell_type": "code",
   "execution_count": 6,
   "id": "59370cb4-7f46-43a2-aa58-364a4edce912",
   "metadata": {},
   "outputs": [],
   "source": [
    "#Generates (or creates if it doesn't exist) the db connection.\n",
    "#the .. indicates to go back a directory\n",
    "conn = sqlite3.connect(\"../sqlite_db/mtg_cards.db\") #\"sqlite_db/mtg_cards.db\""
   ]
  },
  {
   "cell_type": "code",
   "execution_count": 13,
   "id": "6205bab0-a867-440b-a52e-d29b94ce9b76",
   "metadata": {},
   "outputs": [],
   "source": [
    "#SQL command for table \"scryfall_cards\" creation in \"mtg_cards.db\".\n",
    "#---------------------------------------------------------------\n",
    "conn.execute(\n",
    "    \"\"\" CREATE TABLE IF NOT EXISTS scryfall_cards\n",
    "            (card_id CHAR(50),\n",
    "            name CHAR(50),\n",
    "            mana_cost CHAR(50),\n",
    "            cmc CHAR(50),\n",
    "            power CHAR(50),\n",
    "            toughness CHAR(50),\n",
    "            reserved CHAR(50),\n",
    "            foil CHAR(50),\n",
    "            nonfoil CHAR(50),\n",
    "            set_id CHAR(50),\n",
    "            set_name CHAR(50),\n",
    "            rarity CHAR(50),\n",
    "            frame CHAR(50),\n",
    "            small CHAR(50),\n",
    "            normal CHAR(50),\n",
    "            last_update CHAR(50))\n",
    ";\"\"\")\n",
    "\n",
    "#Applies the command\n",
    "conn.commit()"
   ]
  },
  {
   "cell_type": "code",
   "execution_count": 14,
   "id": "c458b9d5-20bf-4672-90d1-ae288f023d11",
   "metadata": {},
   "outputs": [],
   "source": [
    "#SQL command for table \"scryfall_daily_prices\" creation in \"mtg_cards.db\".\n",
    "#---------------------------------------------------------------\n",
    "conn.execute(\n",
    "    \"\"\" CREATE TABLE IF NOT EXISTS scryfall_daily_prices\n",
    "            (card_id CHAR(50),\n",
    "            usd CHAR(50),\n",
    "            usd_foil CHAR(50),\n",
    "            usd_etched CHAR(50),\n",
    "            eur CHAR(50),\n",
    "            eur_foil CHAR(50),\n",
    "            date_time CHAR(50))\n",
    ";\"\"\")\n",
    "\n",
    "#Applies the command\n",
    "conn.commit()"
   ]
  },
  {
   "cell_type": "code",
   "execution_count": 3,
   "id": "7f12be0a-02b9-4c69-a9c9-e05cc598e4b5",
   "metadata": {},
   "outputs": [],
   "source": [
    "#SQL command for table \"scryfall_monthly_prices\" creation in \"mtg_cards.db\".\n",
    "#---------------------------------------------------------------\n",
    "conn.execute(\n",
    "    \"\"\" CREATE TABLE IF NOT EXISTS scryfall_monthly_prices\n",
    "            (card_id CHAR(50),\n",
    "            usd_start CHAR(50),\n",
    "            usd_end CHAR(50),\n",
    "            usd_min CHAR(50),\n",
    "            usd_max CHAR(50),\n",
    "            usd_avg CHAR(50),\n",
    "            usd_foil_start CHAR(50),\n",
    "            usd_foil_end CHAR(50),\n",
    "            usd_foil_min CHAR(50),\n",
    "            usd_foil_max CHAR(50),\n",
    "            usd_foil_avg CHAR(50),\n",
    "            month CHAR(50))\n",
    ";\"\"\")\n",
    "\n",
    "#Applies the command\n",
    "conn.commit()"
   ]
  },
  {
   "cell_type": "code",
   "execution_count": 4,
   "id": "3c43f082-4cd9-4e54-9846-dc6ed70dd881",
   "metadata": {},
   "outputs": [],
   "source": [
    "#Close connection\n",
    "conn.close()"
   ]
  },
  {
   "cell_type": "code",
   "execution_count": null,
   "id": "c9efca91-e8b1-4e8d-a0ec-407b3f8c9044",
   "metadata": {},
   "outputs": [],
   "source": []
  },
  {
   "cell_type": "code",
   "execution_count": null,
   "id": "5b156ab1-463b-4ab2-ac82-98254d2252bb",
   "metadata": {},
   "outputs": [],
   "source": []
  },
  {
   "cell_type": "code",
   "execution_count": null,
   "id": "0f902b38-ceba-4ed8-98ac-931ab1d3fcc1",
   "metadata": {},
   "outputs": [],
   "source": []
  }
 ],
 "metadata": {
  "kernelspec": {
   "display_name": "Python 3 (ipykernel)",
   "language": "python",
   "name": "python3"
  },
  "language_info": {
   "codemirror_mode": {
    "name": "ipython",
    "version": 3
   },
   "file_extension": ".py",
   "mimetype": "text/x-python",
   "name": "python",
   "nbconvert_exporter": "python",
   "pygments_lexer": "ipython3",
   "version": "3.10.4"
  }
 },
 "nbformat": 4,
 "nbformat_minor": 5
}
