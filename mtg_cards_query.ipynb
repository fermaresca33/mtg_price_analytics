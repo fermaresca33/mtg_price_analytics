{
 "cells": [
  {
   "cell_type": "markdown",
   "id": "ea1ae247-fc72-4c4d-93de-0869bea3dc1d",
   "metadata": {},
   "source": [
    "## Specific Cards Queries and Discovery Zone"
   ]
  },
  {
   "cell_type": "markdown",
   "id": "8fe12077-6486-4f3b-b0d3-268b9aebc276",
   "metadata": {},
   "source": [
    "See Scryfal REST API Docs at https://scryfall.com/docs/api\n",
    "\n",
    "In this example I am just using q=cmc:12, to query all cards with converted mana cost (cmc) of 12. But there are loads of other parameters you could use instead and you can learn about them in the cards section of the API docs at the above link."
   ]
  },
  {
   "cell_type": "code",
   "execution_count": 1,
   "id": "f71f0551-6f7f-47e4-8eee-c32f1e6b96e5",
   "metadata": {},
   "outputs": [],
   "source": [
    "#Import libreries\n",
    "import requests\n",
    "import pandas as pd\n",
    "from datetime import datetime"
   ]
  },
  {
   "cell_type": "code",
   "execution_count": 2,
   "id": "37d93eb1-e4c5-4e46-915b-2ff4dac9abda",
   "metadata": {},
   "outputs": [
    {
     "name": "stdout",
     "output_type": "stream",
     "text": [
      "200\n"
     ]
    }
   ],
   "source": [
    "#Get a response object\n",
    "api_response = requests.get('https://api.scryfall.com/cards/search?q=cmc:12')\n",
    "print(api_response.status_code) #should be 200=ok"
   ]
  },
  {
   "cell_type": "code",
   "execution_count": 3,
   "id": "ef47064c-8919-4376-9a7f-bd7fa3772ab6",
   "metadata": {},
   "outputs": [
    {
     "name": "stdout",
     "output_type": "stream",
     "text": [
      "<class 'pandas.core.frame.DataFrame'>\n",
      "RangeIndex: 10 entries, 0 to 9\n",
      "Data columns (total 67 columns):\n",
      " #   Column             Non-Null Count  Dtype  \n",
      "---  ------             --------------  -----  \n",
      " 0   object             10 non-null     object \n",
      " 1   id                 10 non-null     object \n",
      " 2   oracle_id          10 non-null     object \n",
      " 3   multiverse_ids     10 non-null     object \n",
      " 4   mtgo_id            8 non-null      float64\n",
      " 5   tcgplayer_id       10 non-null     int64  \n",
      " 6   cardmarket_id      10 non-null     int64  \n",
      " 7   name               10 non-null     object \n",
      " 8   lang               10 non-null     object \n",
      " 9   released_at        10 non-null     object \n",
      " 10  uri                10 non-null     object \n",
      " 11  scryfall_uri       10 non-null     object \n",
      " 12  layout             10 non-null     object \n",
      " 13  highres_image      10 non-null     bool   \n",
      " 14  image_status       10 non-null     object \n",
      " 15  image_uris         10 non-null     object \n",
      " 16  mana_cost          10 non-null     object \n",
      " 17  cmc                10 non-null     float64\n",
      " 18  type_line          10 non-null     object \n",
      " 19  oracle_text        10 non-null     object \n",
      " 20  power              7 non-null      object \n",
      " 21  toughness          7 non-null      object \n",
      " 22  colors             10 non-null     object \n",
      " 23  color_identity     10 non-null     object \n",
      " 24  keywords           10 non-null     object \n",
      " 25  legalities         10 non-null     object \n",
      " 26  games              10 non-null     object \n",
      " 27  reserved           10 non-null     bool   \n",
      " 28  foil               10 non-null     bool   \n",
      " 29  nonfoil            10 non-null     bool   \n",
      " 30  finishes           10 non-null     object \n",
      " 31  oversized          10 non-null     bool   \n",
      " 32  promo              10 non-null     bool   \n",
      " 33  reprint            10 non-null     bool   \n",
      " 34  variation          10 non-null     bool   \n",
      " 35  set_id             10 non-null     object \n",
      " 36  set                10 non-null     object \n",
      " 37  set_name           10 non-null     object \n",
      " 38  set_type           10 non-null     object \n",
      " 39  set_uri            10 non-null     object \n",
      " 40  set_search_uri     10 non-null     object \n",
      " 41  scryfall_set_uri   10 non-null     object \n",
      " 42  rulings_uri        10 non-null     object \n",
      " 43  prints_search_uri  10 non-null     object \n",
      " 44  collector_number   10 non-null     object \n",
      " 45  digital            10 non-null     bool   \n",
      " 46  rarity             10 non-null     object \n",
      " 47  card_back_id       10 non-null     object \n",
      " 48  artist             10 non-null     object \n",
      " 49  artist_ids         10 non-null     object \n",
      " 50  illustration_id    10 non-null     object \n",
      " 51  border_color       10 non-null     object \n",
      " 52  frame              10 non-null     object \n",
      " 53  security_stamp     8 non-null      object \n",
      " 54  full_art           10 non-null     bool   \n",
      " 55  textless           10 non-null     bool   \n",
      " 56  booster            10 non-null     bool   \n",
      " 57  story_spotlight    10 non-null     bool   \n",
      " 58  edhrec_rank        10 non-null     int64  \n",
      " 59  preview            7 non-null      object \n",
      " 60  prices             10 non-null     object \n",
      " 61  related_uris       10 non-null     object \n",
      " 62  purchase_uris      10 non-null     object \n",
      " 63  mtgo_foil_id       2 non-null      float64\n",
      " 64  flavor_text        4 non-null      object \n",
      " 65  arena_id           4 non-null      float64\n",
      " 66  frame_effects      3 non-null      object \n",
      "dtypes: bool(13), float64(4), int64(3), object(47)\n",
      "memory usage: 4.5+ KB\n",
      "  object                                    id  \\\n",
      "0   card  18adbda4-8d36-47cd-afbc-c785aaa8ed80   \n",
      "1   card  612beb8f-2ab1-4a8b-84c5-c47d19d400ab   \n",
      "2   card  8c342309-aef7-4733-ac1c-ff0b704539a7   \n",
      "\n",
      "                              oracle_id multiverse_ids  mtgo_id  tcgplayer_id  \\\n",
      "0  e80772e2-8623-4094-81a2-70828b2b151c       [489908]  82504.0        214839   \n",
      "1  2adbb56a-45e9-4fbe-b586-3488ef8014a3       [366411]  47783.0         67317   \n",
      "2  b0b6be0c-41cf-4757-9f0e-87227b6ba6b3       [489382]      NaN        216172   \n",
      "\n",
      "   cardmarket_id                   name lang released_at  ... story_spotlight  \\\n",
      "0         462579   Blightsteel Colossus   en  2020-08-07  ...           False   \n",
      "1         259801     Enter the Infinite   en  2013-02-01  ...           False   \n",
      "2         473544  Ghalta, Primal Hunger   en  2020-07-17  ...           False   \n",
      "\n",
      "  edhrec_rank                                            preview  \\\n",
      "0         863  {'source': 'Wizards of the Coast', 'source_uri...   \n",
      "1        3056                                                NaN   \n",
      "2         733  {'source': 'LegenVD', 'source_uri': 'https://w...   \n",
      "\n",
      "                                              prices  \\\n",
      "0  {'usd': '76.45', 'usd_foil': '81.20', 'usd_etc...   \n",
      "1  {'usd': '4.61', 'usd_foil': '23.24', 'usd_etch...   \n",
      "2  {'usd': '2.64', 'usd_foil': None, 'usd_etched'...   \n",
      "\n",
      "                                        related_uris  \\\n",
      "0  {'gatherer': 'https://gatherer.wizards.com/Pag...   \n",
      "1  {'gatherer': 'https://gatherer.wizards.com/Pag...   \n",
      "2  {'gatherer': 'https://gatherer.wizards.com/Pag...   \n",
      "\n",
      "                                       purchase_uris mtgo_foil_id  \\\n",
      "0  {'tcgplayer': 'https://www.tcgplayer.com/produ...          NaN   \n",
      "1  {'tcgplayer': 'https://www.tcgplayer.com/produ...      47784.0   \n",
      "2  {'tcgplayer': 'https://www.tcgplayer.com/produ...          NaN   \n",
      "\n",
      "                                         flavor_text arena_id frame_effects  \n",
      "0                                                NaN      NaN           NaN  \n",
      "1  \"Don't just have an idea—have all of them.\"\\n—...      NaN           NaN  \n",
      "2                 The earth walks, strongest of all.  72461.0   [legendary]  \n",
      "\n",
      "[3 rows x 67 columns]\n"
     ]
    }
   ],
   "source": [
    "#Look at response content\n",
    "type(api_response.content) #bytes\n",
    "\n",
    "#Translate the response object's content from bytes to dictionary object so \n",
    "#it can be easily manipulate it.\n",
    "api_json = api_response.json() #.json() converts from bytes to dictionary\n",
    "\n",
    "#Turn dictionary into a pandas Data frame.\n",
    "cards_df = pd.DataFrame(api_json[\"data\"])\n",
    "\n",
    "#[Debug]:\n",
    "#All columns types and info\n",
    "cards_df.info(verbose=True)\n",
    "#Summary of the first 3 rows\n",
    "print(cards_df.head(3))"
   ]
  },
  {
   "cell_type": "markdown",
   "id": "06820355-2807-4062-8187-73de0b5e44bf",
   "metadata": {},
   "source": [
    "#### Prices column \n",
    "(a dictionary of prices)"
   ]
  },
  {
   "cell_type": "code",
   "execution_count": 4,
   "id": "5b732118-0af3-42e9-928e-c486426be03c",
   "metadata": {},
   "outputs": [
    {
     "name": "stdout",
     "output_type": "stream",
     "text": [
      "0    {'usd': '76.45', 'usd_foil': '81.20', 'usd_etc...\n",
      "1    {'usd': '4.61', 'usd_foil': '23.24', 'usd_etch...\n",
      "2    {'usd': '2.64', 'usd_foil': None, 'usd_etched'...\n",
      "Name: prices, dtype: object\n"
     ]
    }
   ],
   "source": [
    "print(cards_df['prices'].head(3))"
   ]
  },
  {
   "cell_type": "code",
   "execution_count": null,
   "id": "cf2ee047-0351-48bd-afef-b5df4467f8db",
   "metadata": {},
   "outputs": [],
   "source": []
  }
 ],
 "metadata": {
  "kernelspec": {
   "display_name": "Python 3 (ipykernel)",
   "language": "python",
   "name": "python3"
  },
  "language_info": {
   "codemirror_mode": {
    "name": "ipython",
    "version": 3
   },
   "file_extension": ".py",
   "mimetype": "text/x-python",
   "name": "python",
   "nbconvert_exporter": "python",
   "pygments_lexer": "ipython3",
   "version": "3.10.4"
  }
 },
 "nbformat": 4,
 "nbformat_minor": 5
}
