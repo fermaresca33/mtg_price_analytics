{
 "cells": [
  {
   "cell_type": "code",
   "execution_count": null,
   "id": "edf26725-7559-4978-9a69-5258df0d8765",
   "metadata": {},
   "outputs": [],
   "source": []
  },
  {
   "cell_type": "code",
   "execution_count": null,
   "id": "c44f8ad8-ea5a-4371-b4ea-a6ba2648d8c5",
   "metadata": {},
   "outputs": [],
   "source": []
  },
  {
   "cell_type": "code",
   "execution_count": 1,
   "id": "4d4e9670-c6b5-4a3f-9b8f-fdec3ca12e6c",
   "metadata": {},
   "outputs": [],
   "source": [
    "#Import libreries\n",
    "import plotly.express as px\n",
    "from jupyter_dash import JupyterDash\n",
    "#import dash_core_components as dcc #deprecated\n",
    "from dash import dcc\n",
    "#import dash_html_components as html #deprecated\n",
    "from dash import html\n",
    "from dash.dependencies import Input, Output\n",
    "\n",
    "import sqlite3\n",
    "import pandas as pd"
   ]
  },
  {
   "cell_type": "markdown",
   "id": "434f8a36-ad49-49a8-8f18-0c2dc78949e3",
   "metadata": {},
   "source": [
    "### Scryfall Data"
   ]
  },
  {
   "cell_type": "code",
   "execution_count": 2,
   "id": "a35cd642-1e23-487f-918f-76a038b05be0",
   "metadata": {},
   "outputs": [
    {
     "name": "stdout",
     "output_type": "stream",
     "text": [
      "                                card_id         name     set_name  reserved  \\\n",
      "0  0000579f-7b35-4ed3-b44c-db2a538066fe  Fury Sliver  Time Spiral         0   \n",
      "1  0000579f-7b35-4ed3-b44c-db2a538066fe  Fury Sliver  Time Spiral         0   \n",
      "2  0000579f-7b35-4ed3-b44c-db2a538066fe  Fury Sliver  Time Spiral         0   \n",
      "3  0000579f-7b35-4ed3-b44c-db2a538066fe  Fury Sliver  Time Spiral         0   \n",
      "4  0000579f-7b35-4ed3-b44c-db2a538066fe  Fury Sliver  Time Spiral         0   \n",
      "\n",
      "     rarity                                             normal   usd usd_foil  \\\n",
      "0  uncommon  https://c1.scryfall.com/file/scryfall-cards/no...  0.35     7.15   \n",
      "1  uncommon  https://c1.scryfall.com/file/scryfall-cards/no...  0.35     7.15   \n",
      "2  uncommon  https://c1.scryfall.com/file/scryfall-cards/no...  0.35     7.15   \n",
      "3  uncommon  https://c1.scryfall.com/file/scryfall-cards/no...  0.35     7.15   \n",
      "4  uncommon  https://c1.scryfall.com/file/scryfall-cards/no...  0.35     7.15   \n",
      "\n",
      "  date_time  \n",
      "0  20220417  \n",
      "1  20220418  \n",
      "2  20220419  \n",
      "3  20220420  \n",
      "4  20220421  \n"
     ]
    }
   ],
   "source": [
    "#Generates (or creates if it doesn't exist) the db connection.\n",
    "conn = sqlite3.connect(\"sqlite_db/mtg_cards.db\")\n",
    "\n",
    "#SQL query for testing\n",
    "sql_result = conn.execute(\n",
    "    \"\"\" SELECT\n",
    "            scryfall_cards.card_id,\n",
    "            scryfall_cards.name,\n",
    "            scryfall_cards.set_name,\n",
    "            scryfall_cards.reserved,\n",
    "            scryfall_cards.rarity,\n",
    "            scryfall_cards.normal,\n",
    "            scryfall_daily_prices.usd,\n",
    "            scryfall_daily_prices.usd_foil,\n",
    "            scryfall_daily_prices.date_time\n",
    "        FROM \n",
    "            scryfall_cards\n",
    "        LEFT JOIN \n",
    "            scryfall_daily_prices\n",
    "            ON \n",
    "                scryfall_cards.card_id = scryfall_daily_prices.card_id\n",
    ";\"\"\")\n",
    "\n",
    "\n",
    "#Obtains the table column names because sqlite query returns only the data.\n",
    "colums_names = [column[0] for column in sql_result.description]\n",
    "#Creates a pandas dataframe qith the query data and the column names.\n",
    "sql_df = pd.DataFrame.from_records(data = sql_result.fetchall(), columns = colums_names)\n",
    "\n",
    "#Close connection\n",
    "conn.close()\n",
    "\n",
    "print(sql_df.head(5))"
   ]
  },
  {
   "cell_type": "markdown",
   "id": "53c1f91e-c0fb-405c-8daf-75a4189742bd",
   "metadata": {},
   "source": [
    "### Interactive Dash"
   ]
  },
  {
   "cell_type": "code",
   "execution_count": 3,
   "id": "d4f21d0c-6489-4d4d-9d88-b1affaf8dfbc",
   "metadata": {},
   "outputs": [
    {
     "name": "stdout",
     "output_type": "stream",
     "text": [
      "Dash app running on http://127.0.0.1:8050/\n"
     ]
    }
   ],
   "source": [
    "#Build app\n",
    "app = JupyterDash(__name__)\n",
    "app.layout = html.Div([\n",
    "    html.H1(\"JupyterDash MTG Demo\"),\n",
    "    \n",
    "    dcc.Dropdown(id=\"select-set\",\n",
    "                 options=[\n",
    "                     {'label': c, 'value': c} \n",
    "                     for c in sql_df['set_name'].unique()],\n",
    "                 multi=False,\n",
    "                 value=\"Urza's Destiny\",\n",
    "                 style={'width': \"40%\"}\n",
    "                 ),\n",
    "    \n",
    "    dcc.Dropdown(id=\"select-card\",\n",
    "                 options=[\n",
    "                     {'label': c, 'value': c} \n",
    "                     for c in sql_df['name'].unique()],\n",
    "                 multi=False,\n",
    "                 value=\"Replenish\",\n",
    "                 style={'width': \"40%\"}\n",
    "                 ),\n",
    "    \n",
    "    dcc.Graph(id='graph')\n",
    "])\n",
    "\n",
    "#Define callback to update graph\n",
    "@app.callback(\n",
    "    Output('graph', 'figure'),\n",
    "    [Input(\"select-set\", \"value\"), \n",
    "     Input(\"select-card\", \"value\")]\n",
    ")\n",
    "def update_figure(set_selected, card_selected):\n",
    "    dff = sql_df.copy()\n",
    "    dff = dff[(dff.set_name == set_selected) & (dff.name == card_selected)]\n",
    "    \n",
    "    fig = px.scatter(dff, x=\"date_time\", y=\"usd\", \n",
    "                     color_continuous_scale=px.colors.sequential.YlOrRd,\n",
    "                     render_mode=\"webgl\", title=\"Tips\")\n",
    "    fig.add_scatter(x=dff[\"date_time\"], y=dff[\"usd_foil\"])\n",
    "    \n",
    "    return fig\n",
    "\n",
    "#Run app and display result inline in the notebook\n",
    "#app.run_server(mode='inline')\n",
    "app.run_server(mode='external')\n",
    "#app.run_server(mode='jupyterlab')"
   ]
  },
  {
   "cell_type": "code",
   "execution_count": null,
   "id": "3ab6e656-d642-4468-897d-bae9d9119384",
   "metadata": {},
   "outputs": [],
   "source": []
  }
 ],
 "metadata": {
  "kernelspec": {
   "display_name": "Python 3 (ipykernel)",
   "language": "python",
   "name": "python3"
  },
  "language_info": {
   "codemirror_mode": {
    "name": "ipython",
    "version": 3
   },
   "file_extension": ".py",
   "mimetype": "text/x-python",
   "name": "python",
   "nbconvert_exporter": "python",
   "pygments_lexer": "ipython3",
   "version": "3.10.4"
  }
 },
 "nbformat": 4,
 "nbformat_minor": 5
}
