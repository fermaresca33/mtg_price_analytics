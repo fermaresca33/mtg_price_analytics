{
 "cells": [
  {
   "cell_type": "markdown",
   "id": "da6f5b9c-a9cb-4d16-8463-62500fe07cae",
   "metadata": {},
   "source": [
    "# Scryfall Price Trend Harvester"
   ]
  },
  {
   "cell_type": "markdown",
   "id": "ed5e5e34-145c-4553-8f09-cd0a2d2fc2db",
   "metadata": {},
   "source": [
    "This program extracts magic the gathering (mtg) card information and prices from the Scryfall rest-API.\n",
    "\n",
    "The idea is to get the bulk data in order to be able to store the all cards information (more info than the API will return in a normal query). If you need help understanding the data structure or you would like to query only for specific info, then look the Jupyter Notebook call \"mtg_cards_query.ipynb\". In there is an example of how to do that."
   ]
  },
  {
   "cell_type": "code",
   "execution_count": 1,
   "id": "149f1b0f-2412-42e6-8dff-aac49e6cf137",
   "metadata": {},
   "outputs": [],
   "source": [
    "#Import libreries\n",
    "import requests\n",
    "import pandas as pd\n",
    "from datetime import datetime\n",
    "\n",
    "import sqlite3"
   ]
  },
  {
   "cell_type": "markdown",
   "id": "7b668bbd-d6c7-483f-9699-c168228b1f81",
   "metadata": {},
   "source": [
    "### Setup"
   ]
  },
  {
   "cell_type": "code",
   "execution_count": 2,
   "id": "b02d2bb2-9f15-4e47-af9c-0ab99d13008d",
   "metadata": {},
   "outputs": [],
   "source": [
    "DEBUG = False\n",
    "\n",
    "#Current date\n",
    "now = datetime.now()\n",
    "date_time = str(now.strftime(\"%Y%m%d\"))\n",
    "\n",
    "#pd.set_option('display.max_colwidth', None)"
   ]
  },
  {
   "cell_type": "markdown",
   "id": "86480546-4f5a-4aa2-ad97-4f33f00f80a8",
   "metadata": {},
   "source": [
    "### Getting Bulk Data"
   ]
  },
  {
   "cell_type": "markdown",
   "id": "e69baeaa-463b-4f1e-9c91-72a4547ba7c9",
   "metadata": {},
   "source": [
    "Downloading the full card json that is generated every day.\n",
    "More info about it in: https://scryfall.com/docs/api/bulk-data"
   ]
  },
  {
   "cell_type": "code",
   "execution_count": 3,
   "id": "df0c4cce-429d-419a-be8e-602b4f0870cd",
   "metadata": {},
   "outputs": [
    {
     "name": "stdout",
     "output_type": "stream",
     "text": [
      "200\n"
     ]
    }
   ],
   "source": [
    "api_response = requests.get('https://api.scryfall.com/bulk-data/default-cards')\n",
    "print(api_response.status_code) #should be 200=ok"
   ]
  },
  {
   "cell_type": "code",
   "execution_count": 4,
   "id": "401aca3a-33fc-41bb-aa0d-067387605959",
   "metadata": {},
   "outputs": [],
   "source": [
    "#Translate the response object's content from bytes to dictionary object so \n",
    "#it can be easily manipulate it\n",
    "api_json = api_response.json() #converts from bytes to dictionary\n",
    "\n",
    "#[Debug]\n",
    "if DEBUG:\n",
    "    print(api_json['download_uri'])"
   ]
  },
  {
   "cell_type": "code",
   "execution_count": 6,
   "id": "8a371d79-7a61-4f0f-8eac-cc4a3471b796",
   "metadata": {},
   "outputs": [],
   "source": [
    "#Get cards information from bulk data in the responsed url.\n",
    "bulk_url_json = requests.get(api_json['download_uri'], allow_redirects=True)\n",
    "\n",
    "##Save data as json file in disk\n",
    "#file_size = open('default_cards.json', 'wb').write(bulk_url_json.content)\n",
    "#[Debug]\n",
    "#if DEBUG:\n",
    "    #print(\"Json downloaded correctly. File size: \" + str(file_size))\n",
    "\n",
    "##Save data to pandas\n",
    "#Load json data to a pandas Data frame.\n",
    "url_json = bulk_url_json.json() #converts from bytes to dictionary\n",
    "cards_bulk_df = pd.DataFrame(url_json)\n",
    "\n",
    "#[Debug]\n",
    "if DEBUG:\n",
    "    cards_bulk_df.to_csv('initial_bulk.csv', sep=\";\", index=False) \n",
    "\n",
    "#[Debug]\n",
    "if DEBUG:\n",
    "    #All columns types and info\n",
    "    cards_bulk_df.info(verbose=True)\n",
    "    #Summary of the first 3 rows\n",
    "    print(cards_bulk_df.head(3))"
   ]
  },
  {
   "cell_type": "markdown",
   "id": "a90d4543-4f2b-401c-86ad-c9745f2a6c5f",
   "metadata": {},
   "source": [
    "#### Prices column \n",
    "(a dictionary of prices)\n",
    "\n",
    "Ejemplo: {'usd': '76.45', 'usd_foil': '81.20', 'usd_etched': None, 'eur': '38.64', 'eur_foil': '43.93', 'tix': '1.12'}"
   ]
  },
  {
   "cell_type": "code",
   "execution_count": 7,
   "id": "9e4ceb49-f2c1-4e14-9f05-31e9811b4e16",
   "metadata": {},
   "outputs": [],
   "source": [
    "#[Debug]\n",
    "if DEBUG:\n",
    "    print(cards_bulk_df['prices'].head(3))"
   ]
  },
  {
   "cell_type": "markdown",
   "id": "fadb31dc-833c-473e-be77-6fb81807d64f",
   "metadata": {},
   "source": [
    "### Save Data to local DB"
   ]
  },
  {
   "cell_type": "markdown",
   "id": "e37f70d3-ba26-4e2f-947e-6cd06f3b361a",
   "metadata": {},
   "source": [
    "First we need to filter the data that we don't want and keep the rest.\n",
    "\n",
    "In my case is not only about the columns but also about the card editions. I'm an old school Magic collector so I love the old frames/border cards. I'll limit the db to that."
   ]
  },
  {
   "cell_type": "code",
   "execution_count": 9,
   "id": "7fb82cb2-545a-4a5c-98b0-67f5c0808f59",
   "metadata": {},
   "outputs": [],
   "source": [
    "#colum = id #card global id\n",
    "#colum = name #card name\n",
    "#colum = image_uris #dictionary of card images\n",
    "#colum = mana_cost #mana cost with color code\n",
    "#colum = cmc \"converted mana cost\n",
    "#colum = power\n",
    "#colum = toughness\n",
    "#colum = reserved #if it's on the reserved list or not\n",
    "#colum = foil\n",
    "#colum = nonfoil\n",
    "#colum = set_id #set global id\n",
    "#colum = set_name #set name\n",
    "#colum = rarity\n",
    "#colum = frame #frame year (example: 1993, 1997, 2003, 2015, etc)\n",
    "#colum = prices\n",
    "columns_list = ['id', 'name', 'image_uris', 'mana_cost', 'cmc', 'power',\n",
    "                'toughness', 'reserved', 'foil', 'nonfoil', 'set_id',\n",
    "                'set_name', 'rarity', 'frame', 'prices', 'date_time']\n",
    "\n",
    "#General Cleaning\n",
    "#---------------------------------------------------\n",
    "#Discard any card that's not in english\n",
    "cards_df_flt = cards_bulk_df.loc[cards_bulk_df[\"lang\"] == \"en\"]\n",
    "#Discard the cards without image\n",
    "cards_df_flt = cards_df_flt.dropna(subset = ['image_uris'])\n",
    "#Adds date_time to the Data frame\n",
    "cards_df_flt['date_time'] = date_time\n",
    "#Keep only necessary columns\n",
    "cards_df_flt = cards_df_flt[columns_list]\n",
    "\n",
    "#[Debug]\n",
    "if DEBUG:\n",
    "    #All columns types and info\n",
    "    cards_df_flt.info(verbose=True)"
   ]
  },
  {
   "cell_type": "markdown",
   "id": "388f4b39-e6aa-40c2-9205-591961317d74",
   "metadata": {},
   "source": [
    "Now we split the columns with dictionary-like objects to obtain a \"plain\" table and store it on the DB."
   ]
  },
  {
   "cell_type": "code",
   "execution_count": 10,
   "id": "7954587a-18b8-41cd-b807-01c0035cf990",
   "metadata": {},
   "outputs": [],
   "source": [
    "df_split_images = pd.DataFrame(cards_df_flt['image_uris'].values.tolist())\n",
    "#Keep only two of the images options, discard the rest.\n",
    "df_split_images = df_split_images[['small', 'normal']]\n",
    "\n",
    "df_split_prices = pd.DataFrame(cards_df_flt['prices'].values.tolist())\n",
    "\n",
    "cards_df_flt = pd.concat([cards_df_flt.drop(['image_uris', 'prices'], axis=1), \n",
    "                          df_split_images, \n",
    "                          df_split_prices], \n",
    "                         axis=1)\n",
    "\n",
    "cards_df_flt.to_csv('test.csv', sep=\";\", index=False)"
   ]
  },
  {
   "cell_type": "markdown",
   "id": "6ca909ca-ca1b-4707-ac72-ef1e0d528945",
   "metadata": {},
   "source": [
    "#### Connect to the DB"
   ]
  },
  {
   "cell_type": "code",
   "execution_count": 11,
   "id": "fee4353f-1bb9-4663-93a0-912c746c6a20",
   "metadata": {},
   "outputs": [],
   "source": [
    "#Generates (or creates if it doesn't exist) the db connection.\n",
    "conn = sqlite3.connect(\"sqlite_db/mtg_cards.db\")"
   ]
  },
  {
   "cell_type": "markdown",
   "id": "6a5e62cd-2c7e-4a1c-baaf-0ed093cb351f",
   "metadata": {},
   "source": [
    "#### Load Data frame to table"
   ]
  },
  {
   "cell_type": "code",
   "execution_count": 12,
   "id": "eb976dd4-c951-4cb5-964c-1c918b82a06c",
   "metadata": {},
   "outputs": [
    {
     "data": {
      "text/plain": [
       "67483"
      ]
     },
     "execution_count": 12,
     "metadata": {},
     "output_type": "execute_result"
    }
   ],
   "source": [
    "#Load pandas Data frame into scryfall_cards table.\n",
    "cards_df_flt.to_sql(name=\"scryfall_cards\", con=conn, if_exists=\"append\", index=False)"
   ]
  },
  {
   "cell_type": "markdown",
   "id": "88c1f4af-963b-48fb-a6e2-d9fdeea6424b",
   "metadata": {},
   "source": [
    "#### Testing result"
   ]
  },
  {
   "cell_type": "code",
   "execution_count": 15,
   "id": "7b9f5dbe-4c2f-4dde-84cf-ff0098896329",
   "metadata": {},
   "outputs": [
    {
     "name": "stdout",
     "output_type": "stream",
     "text": [
      "                                     id             name set_name    usd\n",
      "0  000366c8-7a43-49d7-a103-ac5bd7efd9aa            Swamp  Tempest   0.34\n",
      "1  012049f8-0936-49ed-948d-0d34af28550f  Armored Pegasus  Tempest   3.13\n",
      "2  0169e52b-7909-4a8f-8ca2-62f030f9a85a   Canyon Wildcat  Tempest  26.47\n",
      "3  0374f269-b07e-43af-911a-5454b35f14e6         Scabland  Tempest   0.28\n",
      "4  03aa58b4-dbc2-414e-aa7a-f09360d59b3c    Winged Sliver  Tempest   0.03\n"
     ]
    }
   ],
   "source": [
    "#SQL query for testing\n",
    "sql_result = conn.execute(\n",
    "    \"\"\" SELECT\n",
    "            id,\n",
    "            name,\n",
    "            set_name,\n",
    "            usd\n",
    "        FROM scryfall_cards\n",
    "        WHERE\n",
    "            set_name = 'Tempest'\n",
    "            AND\n",
    "            date_time = '20220417'\n",
    "        ORDER BY id ASC\n",
    ";\"\"\")\n",
    "\n",
    "#Obtains the table column names because sqlite query returns only the data.\n",
    "colums_names = [column[0] for column in sql_result.description]\n",
    "#Creates a pandas dataframe qith the query data and the column names.\n",
    "sql_df= pd.DataFrame.from_records(data = sql_result.fetchall(), columns = colums_names)\n",
    "\n",
    "print(sql_df.head(5))"
   ]
  },
  {
   "cell_type": "markdown",
   "id": "d1faaea8-4ba0-445a-95a6-f6abfccc2b75",
   "metadata": {},
   "source": [
    "#### Close connection to DB"
   ]
  },
  {
   "cell_type": "code",
   "execution_count": 16,
   "id": "37731f40-acaf-474b-867e-a35eebd235c6",
   "metadata": {},
   "outputs": [],
   "source": [
    "#Close connection\n",
    "conn.close()"
   ]
  },
  {
   "cell_type": "code",
   "execution_count": null,
   "id": "b8e3608a-d32f-4d2d-bfd8-3f10bbb34d6f",
   "metadata": {},
   "outputs": [],
   "source": []
  },
  {
   "cell_type": "code",
   "execution_count": null,
   "id": "1d307df9-a099-405e-bb28-22122fd3c557",
   "metadata": {},
   "outputs": [],
   "source": []
  }
 ],
 "metadata": {
  "kernelspec": {
   "display_name": "Python 3 (ipykernel)",
   "language": "python",
   "name": "python3"
  },
  "language_info": {
   "codemirror_mode": {
    "name": "ipython",
    "version": 3
   },
   "file_extension": ".py",
   "mimetype": "text/x-python",
   "name": "python",
   "nbconvert_exporter": "python",
   "pygments_lexer": "ipython3",
   "version": "3.10.4"
  }
 },
 "nbformat": 4,
 "nbformat_minor": 5
}
