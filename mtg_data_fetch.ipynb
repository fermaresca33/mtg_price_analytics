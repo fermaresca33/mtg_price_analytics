{
 "cells": [
  {
   "cell_type": "markdown",
   "id": "da6f5b9c-a9cb-4d16-8463-62500fe07cae",
   "metadata": {},
   "source": [
    "# Scryfall Data Fetcher"
   ]
  },
  {
   "cell_type": "markdown",
   "id": "ed5e5e34-145c-4553-8f09-cd0a2d2fc2db",
   "metadata": {},
   "source": [
    "This program extracts magic the gathering (mtg) card information and prices from the Scryfall rest-API.\n",
    "\n",
    "The idea is to get the bulk data in order to be able to store the all cards information (more info than the API will return in a normal query). If you need help understanding the data structure or you would like to query only for specific info, then look the Jupyter Notebook call \"mtg_cards_query.ipynb\". In there is an example of how to do that."
   ]
  },
  {
   "cell_type": "code",
   "execution_count": 1,
   "id": "149f1b0f-2412-42e6-8dff-aac49e6cf137",
   "metadata": {},
   "outputs": [],
   "source": [
    "#Import libreries\n",
    "import requests\n",
    "import pandas as pd\n",
    "from datetime import datetime\n",
    "\n",
    "import sqlite3"
   ]
  },
  {
   "cell_type": "markdown",
   "id": "7b668bbd-d6c7-483f-9699-c168228b1f81",
   "metadata": {},
   "source": [
    "### Setup"
   ]
  },
  {
   "cell_type": "code",
   "execution_count": 2,
   "id": "b02d2bb2-9f15-4e47-af9c-0ab99d13008d",
   "metadata": {},
   "outputs": [],
   "source": [
    "DEBUG = False\n",
    "\n",
    "#Current date\n",
    "now = datetime.now()\n",
    "date_time = str(now.strftime(\"%Y%m%d\"))\n",
    "\n",
    "#Change display limit for big data frames\n",
    "#pd.set_option('display.max_colwidth', None)"
   ]
  },
  {
   "cell_type": "markdown",
   "id": "86480546-4f5a-4aa2-ad97-4f33f00f80a8",
   "metadata": {},
   "source": [
    "### Getting Bulk Data"
   ]
  },
  {
   "cell_type": "markdown",
   "id": "e69baeaa-463b-4f1e-9c91-72a4547ba7c9",
   "metadata": {},
   "source": [
    "Downloading the full card json that is generated every day.\n",
    "More info about it in: https://scryfall.com/docs/api/bulk-data"
   ]
  },
  {
   "cell_type": "code",
   "execution_count": 3,
   "id": "df0c4cce-429d-419a-be8e-602b4f0870cd",
   "metadata": {},
   "outputs": [
    {
     "name": "stdout",
     "output_type": "stream",
     "text": [
      "200\n"
     ]
    }
   ],
   "source": [
    "api_response = requests.get('https://api.scryfall.com/bulk-data/default-cards')\n",
    "print(api_response.status_code) #should be 200=ok"
   ]
  },
  {
   "cell_type": "code",
   "execution_count": 4,
   "id": "401aca3a-33fc-41bb-aa0d-067387605959",
   "metadata": {},
   "outputs": [],
   "source": [
    "#Translate the response object's content from bytes to dictionary object so \n",
    "#it can be easily manipulate it\n",
    "api_json = api_response.json() #converts from bytes to dictionary\n",
    "\n",
    "#[Debug]\n",
    "if DEBUG:\n",
    "    print(api_json['download_uri'])"
   ]
  },
  {
   "cell_type": "code",
   "execution_count": 5,
   "id": "8a371d79-7a61-4f0f-8eac-cc4a3471b796",
   "metadata": {},
   "outputs": [],
   "source": [
    "#Get cards information from bulk data in the responsed url.\n",
    "bulk_url_json = requests.get(api_json['download_uri'], allow_redirects=True)\n",
    "\n",
    "##Save data as json file in disk\n",
    "#file_size = open('default_cards.json', 'wb').write(bulk_url_json.content)\n",
    "#[Debug]\n",
    "#if DEBUG:\n",
    "    #print(\"Json downloaded correctly. File size: \" + str(file_size))\n",
    "\n",
    "##Save data to pandas\n",
    "#Load json data to a pandas Data frame.\n",
    "url_json = bulk_url_json.json() #converts from bytes to dictionary\n",
    "cards_bulk_df = pd.DataFrame(url_json)\n",
    "\n",
    "#[Debug]\n",
    "if DEBUG:\n",
    "    cards_bulk_df.to_csv('initial_bulk.csv', sep=\";\", index=False) \n",
    "\n",
    "#[Debug]\n",
    "if DEBUG:\n",
    "    #All columns types and info\n",
    "    cards_bulk_df.info(verbose=True)\n",
    "    #Summary of the first 3 rows\n",
    "    print(cards_bulk_df.head(3))"
   ]
  },
  {
   "cell_type": "markdown",
   "id": "fadb31dc-833c-473e-be77-6fb81807d64f",
   "metadata": {},
   "source": [
    "## Save Data to local DB"
   ]
  },
  {
   "cell_type": "markdown",
   "id": "afe0a430-60de-42b7-8ceb-fea38d8d5f4f",
   "metadata": {},
   "source": [
    "| id | name | mana_cost | cmc | power | toughness | reserved | foil | nonfoil | set_id | set_name | rarity | frame | date_time | small | normal | usd | usd_foil | usd_etched | eur | eur_foil |\n",
    "| :-: | :-: | :-: | :-: | :-: | :-: | :-: | :-: | :-: | :-: | :-: | :-: | :-: | :-: | :-: | :-: | :-: | :-: | :-: | :-: | :-: |\n",
    "| 6c900f34-1bd2-43c7-be33-cf5cc02a62ea | Replenish | {3}{W} | 4.0 |  |  | True | False | True | 632741a4-411d-4110-b507-5a5cfdd52ef2 | World Championship Decks 2000 | rare | 1997 | 20220417 | https://c1.scryfall.com/file/scryfall-cards/small/front/6/c/6c900f34-1bd2-43c7-be33-cf5cc02a62ea.jpg?1562767042 | https://c1.scryfall.com/file/scryfall-cards/normal/front/6/c/6c900f34-1bd2-43c7-be33-cf5cc02a62ea.jpg?1562767042 | 40.15 |  |  | 25.00 | | \n",
    "| 7fd2fe13-bbc0-42b7-bc42-3b51910ce118 | Replenish | {3}{W} | 4.0 |  |  | True | True | True | 44f17b37-dcf8-4239-baab-1efc00cd3480 | Urza's Destiny | rare | 1997 | 20220417 | https://c1.scryfall.com/file/scryfall-cards/small/front/7/f/7fd2fe13-bbc0-42b7-bc42-3b51910ce118.jpg?1562444251 | https://c1.scryfall.com/file/scryfall-cards/normal/front/7/f/7fd2fe13-bbc0-42b7-bc42-3b51910ce118.jpg?1562444251 | 114.42 | 925.99 |  | 74.24 | 571.50 |"
   ]
  },
  {
   "cell_type": "markdown",
   "id": "724b411b-3cf0-44cf-a25f-1870720872c3",
   "metadata": {},
   "source": [
    "### DataFrame Cleaning and Preparation"
   ]
  },
  {
   "cell_type": "markdown",
   "id": "46d8eab5-2114-436a-8379-6ab9909fb2ce",
   "metadata": {},
   "source": [
    "First we need to filter the data that we don't want and keep the rest."
   ]
  },
  {
   "cell_type": "code",
   "execution_count": 6,
   "id": "7fb82cb2-545a-4a5c-98b0-67f5c0808f59",
   "metadata": {},
   "outputs": [],
   "source": [
    "columns_list = ['id', 'name', 'image_uris', 'mana_cost', 'cmc', 'power',\n",
    "                'toughness', 'reserved', 'foil', 'nonfoil', 'set_id',\n",
    "                'set_name', 'rarity', 'frame', 'prices', 'date_time']\n",
    "\n",
    "#General Cleaning\n",
    "#---------------------------------------------------\n",
    "#Discard any card that's not in english\n",
    "cards_df_flt = cards_bulk_df.loc[cards_bulk_df[\"lang\"] == \"en\"]\n",
    "#Discard the cards without image\n",
    "cards_df_flt = cards_df_flt.dropna(subset = ['image_uris'])\n",
    "#Adds date_time to the Data frame\n",
    "cards_df_flt['date_time'] = date_time\n",
    "#Keep only necessary columns\n",
    "cards_df_flt = cards_df_flt[columns_list]\n",
    "\n",
    "#[Debug]\n",
    "if DEBUG:\n",
    "    #All columns types and info\n",
    "    cards_df_flt.info(verbose=True)"
   ]
  },
  {
   "cell_type": "markdown",
   "id": "388f4b39-e6aa-40c2-9205-591961317d74",
   "metadata": {},
   "source": [
    "Now we split the columns with dictionary-like objects to obtain a \"plain table\" and store it on the DB."
   ]
  },
  {
   "cell_type": "code",
   "execution_count": 7,
   "id": "7954587a-18b8-41cd-b807-01c0035cf990",
   "metadata": {},
   "outputs": [],
   "source": [
    "#Split dictonary column for cards images\n",
    "cards_df_flt = cards_df_flt.join(cards_df_flt.image_uris.apply(pd.Series), how='left')\n",
    "\n",
    "#Split dictonary column for cards prices\n",
    "cards_df_flt = cards_df_flt.join(cards_df_flt.prices.apply(pd.Series), how='left')\n",
    "\n",
    "#Drop innecesary columns after de split\n",
    "cards_df_flt.drop([\"image_uris\", \"prices\", \"large\", \"png\", \"art_crop\", \"border_crop\", \"tix\"], axis=1, inplace=True)"
   ]
  },
  {
   "cell_type": "markdown",
   "id": "c5335664-d611-423c-bc2f-18a32ae6ec2f",
   "metadata": {},
   "source": [
    "### Divide DataFrame into two different tables"
   ]
  },
  {
   "cell_type": "markdown",
   "id": "7875705f-a174-4ede-8142-81ea52fbd804",
   "metadata": {},
   "source": [
    "The DB is divided into two tables:\n",
    "    \n",
    "    -scryfall_cards : Holds the cards static info (name, set, images, rarity, etc)\n",
    "    -scryfall_daily_prices : Holds the cards columns variable in a daily basis (regular card price, foil price, etc)"
   ]
  },
  {
   "cell_type": "code",
   "execution_count": 8,
   "id": "1947b36b-1ef7-4b3f-8396-1bbac0c208ae",
   "metadata": {},
   "outputs": [],
   "source": [
    "prices_df = cards_df_flt.copy(deep=True)\n",
    "prices_df = prices_df[['id', 'usd', 'usd_foil', 'usd_etched', 'eur', 'eur_foil', 'date_time']]\n",
    "prices_df.rename(columns = {'id':'card_id'}, inplace = True)\n",
    "#[Debug]\n",
    "if DEBUG:\n",
    "    print(\"----------------- scryfall_daily_prices -----------------\")\n",
    "    print(prices_df.head(3))\n",
    "\n",
    "cards_static_info_df = cards_df_flt.copy(deep=True)\n",
    "cards_static_info_df = cards_static_info_df[['id', 'name', 'mana_cost', 'cmc', 'power', 'toughness', \n",
    "                                             'reserved', 'foil', 'nonfoil', 'set_id', 'set_name', \n",
    "                                             'rarity', 'frame', 'small', 'normal', 'date_time']]\n",
    "cards_static_info_df.rename(columns = {'id':'card_id', 'date_time':'last_update'}, inplace = True)\n",
    "#[Debug]\n",
    "if DEBUG:\n",
    "    print(\"--------------------- scryfall_cards ---------------------\")\n",
    "    print(cards_static_info_df.head(3))"
   ]
  },
  {
   "cell_type": "markdown",
   "id": "6ca909ca-ca1b-4707-ac72-ef1e0d528945",
   "metadata": {},
   "source": [
    "#### Connect to the DB"
   ]
  },
  {
   "cell_type": "code",
   "execution_count": 9,
   "id": "fee4353f-1bb9-4663-93a0-912c746c6a20",
   "metadata": {},
   "outputs": [],
   "source": [
    "#Generates (or creates if it doesn't exist) the db connection.\n",
    "conn = sqlite3.connect(\"sqlite_db/mtg_cards.db\")"
   ]
  },
  {
   "cell_type": "markdown",
   "id": "6a5e62cd-2c7e-4a1c-baaf-0ed093cb351f",
   "metadata": {},
   "source": [
    "#### Load DataFrame to table"
   ]
  },
  {
   "cell_type": "code",
   "execution_count": 10,
   "id": "eb976dd4-c951-4cb5-964c-1c918b82a06c",
   "metadata": {},
   "outputs": [
    {
     "data": {
      "text/plain": [
       "64248"
      ]
     },
     "execution_count": 10,
     "metadata": {},
     "output_type": "execute_result"
    }
   ],
   "source": [
    "#Load pandas Data frame into scryfall_cards table. Append Because it will add new prices each day.\n",
    "prices_df.to_sql(name=\"scryfall_daily_prices\", con=conn, if_exists=\"append\", index=False)\n",
    "\n",
    "#Load pandas Data frame into scryfall_cards table. Replace existing because is static info about the cards.\n",
    "cards_static_info_df.to_sql(name=\"scryfall_cards\", con=conn, if_exists=\"replace\", index=False)"
   ]
  },
  {
   "cell_type": "markdown",
   "id": "88c1f4af-963b-48fb-a6e2-d9fdeea6424b",
   "metadata": {},
   "source": [
    "### Testing result"
   ]
  },
  {
   "cell_type": "code",
   "execution_count": 11,
   "id": "7b9f5dbe-4c2f-4dde-84cf-ff0098896329",
   "metadata": {},
   "outputs": [
    {
     "data": {
      "text/html": [
       "<div>\n",
       "<style scoped>\n",
       "    .dataframe tbody tr th:only-of-type {\n",
       "        vertical-align: middle;\n",
       "    }\n",
       "\n",
       "    .dataframe tbody tr th {\n",
       "        vertical-align: top;\n",
       "    }\n",
       "\n",
       "    .dataframe thead th {\n",
       "        text-align: right;\n",
       "    }\n",
       "</style>\n",
       "<table border=\"1\" class=\"dataframe\">\n",
       "  <thead>\n",
       "    <tr style=\"text-align: right;\">\n",
       "      <th></th>\n",
       "      <th>card_id</th>\n",
       "      <th>name</th>\n",
       "      <th>mana_cost</th>\n",
       "      <th>cmc</th>\n",
       "      <th>power</th>\n",
       "      <th>toughness</th>\n",
       "      <th>reserved</th>\n",
       "      <th>foil</th>\n",
       "      <th>nonfoil</th>\n",
       "      <th>set_id</th>\n",
       "      <th>set_name</th>\n",
       "      <th>rarity</th>\n",
       "      <th>frame</th>\n",
       "      <th>small</th>\n",
       "      <th>normal</th>\n",
       "      <th>last_update</th>\n",
       "    </tr>\n",
       "  </thead>\n",
       "  <tbody>\n",
       "    <tr>\n",
       "      <th>0</th>\n",
       "      <td>6c900f34-1bd2-43c7-be33-cf5cc02a62ea</td>\n",
       "      <td>Replenish</td>\n",
       "      <td>{3}{W}</td>\n",
       "      <td>4.0</td>\n",
       "      <td>None</td>\n",
       "      <td>None</td>\n",
       "      <td>1</td>\n",
       "      <td>0</td>\n",
       "      <td>1</td>\n",
       "      <td>632741a4-411d-4110-b507-5a5cfdd52ef2</td>\n",
       "      <td>World Championship Decks 2000</td>\n",
       "      <td>rare</td>\n",
       "      <td>1997</td>\n",
       "      <td>https://c1.scryfall.com/file/scryfall-cards/sm...</td>\n",
       "      <td>https://c1.scryfall.com/file/scryfall-cards/no...</td>\n",
       "      <td>20220421</td>\n",
       "    </tr>\n",
       "    <tr>\n",
       "      <th>1</th>\n",
       "      <td>7fd2fe13-bbc0-42b7-bc42-3b51910ce118</td>\n",
       "      <td>Replenish</td>\n",
       "      <td>{3}{W}</td>\n",
       "      <td>4.0</td>\n",
       "      <td>None</td>\n",
       "      <td>None</td>\n",
       "      <td>1</td>\n",
       "      <td>1</td>\n",
       "      <td>1</td>\n",
       "      <td>44f17b37-dcf8-4239-baab-1efc00cd3480</td>\n",
       "      <td>Urza's Destiny</td>\n",
       "      <td>rare</td>\n",
       "      <td>1997</td>\n",
       "      <td>https://c1.scryfall.com/file/scryfall-cards/sm...</td>\n",
       "      <td>https://c1.scryfall.com/file/scryfall-cards/no...</td>\n",
       "      <td>20220421</td>\n",
       "    </tr>\n",
       "  </tbody>\n",
       "</table>\n",
       "</div>"
      ],
      "text/plain": [
       "                                card_id       name mana_cost  cmc power  \\\n",
       "0  6c900f34-1bd2-43c7-be33-cf5cc02a62ea  Replenish    {3}{W}  4.0  None   \n",
       "1  7fd2fe13-bbc0-42b7-bc42-3b51910ce118  Replenish    {3}{W}  4.0  None   \n",
       "\n",
       "  toughness  reserved  foil  nonfoil                                set_id  \\\n",
       "0      None         1     0        1  632741a4-411d-4110-b507-5a5cfdd52ef2   \n",
       "1      None         1     1        1  44f17b37-dcf8-4239-baab-1efc00cd3480   \n",
       "\n",
       "                        set_name rarity frame  \\\n",
       "0  World Championship Decks 2000   rare  1997   \n",
       "1                 Urza's Destiny   rare  1997   \n",
       "\n",
       "                                               small  \\\n",
       "0  https://c1.scryfall.com/file/scryfall-cards/sm...   \n",
       "1  https://c1.scryfall.com/file/scryfall-cards/sm...   \n",
       "\n",
       "                                              normal last_update  \n",
       "0  https://c1.scryfall.com/file/scryfall-cards/no...    20220421  \n",
       "1  https://c1.scryfall.com/file/scryfall-cards/no...    20220421  "
      ]
     },
     "execution_count": 11,
     "metadata": {},
     "output_type": "execute_result"
    }
   ],
   "source": [
    "#SQL query for testing\n",
    "sql_result = conn.execute(\n",
    "    \"\"\" SELECT\n",
    "            *\n",
    "        FROM scryfall_cards\n",
    "        WHERE\n",
    "            name = 'Replenish'\n",
    ";\"\"\")\n",
    "\n",
    "#Obtains the table column names because sqlite query returns only the data.\n",
    "colums_names = [column[0] for column in sql_result.description]\n",
    "#Creates a pandas dataframe qith the query data and the column names.\n",
    "sql_df= pd.DataFrame.from_records(data = sql_result.fetchall(), columns = colums_names)\n",
    "\n",
    "sql_df.head(5)"
   ]
  },
  {
   "cell_type": "code",
   "execution_count": 12,
   "id": "c9f4e170-1f11-4384-aca8-bfd009ec91ed",
   "metadata": {},
   "outputs": [
    {
     "data": {
      "text/html": [
       "<div>\n",
       "<style scoped>\n",
       "    .dataframe tbody tr th:only-of-type {\n",
       "        vertical-align: middle;\n",
       "    }\n",
       "\n",
       "    .dataframe tbody tr th {\n",
       "        vertical-align: top;\n",
       "    }\n",
       "\n",
       "    .dataframe thead th {\n",
       "        text-align: right;\n",
       "    }\n",
       "</style>\n",
       "<table border=\"1\" class=\"dataframe\">\n",
       "  <thead>\n",
       "    <tr style=\"text-align: right;\">\n",
       "      <th></th>\n",
       "      <th>card_id</th>\n",
       "      <th>usd</th>\n",
       "      <th>usd_foil</th>\n",
       "      <th>usd_etched</th>\n",
       "      <th>eur</th>\n",
       "      <th>eur_foil</th>\n",
       "      <th>date_time</th>\n",
       "    </tr>\n",
       "  </thead>\n",
       "  <tbody>\n",
       "    <tr>\n",
       "      <th>0</th>\n",
       "      <td>6c900f34-1bd2-43c7-be33-cf5cc02a62ea</td>\n",
       "      <td>40.15</td>\n",
       "      <td>None</td>\n",
       "      <td>None</td>\n",
       "      <td>25.00</td>\n",
       "      <td>None</td>\n",
       "      <td>20220417</td>\n",
       "    </tr>\n",
       "    <tr>\n",
       "      <th>1</th>\n",
       "      <td>7fd2fe13-bbc0-42b7-bc42-3b51910ce118</td>\n",
       "      <td>114.42</td>\n",
       "      <td>925.99</td>\n",
       "      <td>None</td>\n",
       "      <td>74.24</td>\n",
       "      <td>571.50</td>\n",
       "      <td>20220417</td>\n",
       "    </tr>\n",
       "    <tr>\n",
       "      <th>2</th>\n",
       "      <td>6c900f34-1bd2-43c7-be33-cf5cc02a62ea</td>\n",
       "      <td>40.15</td>\n",
       "      <td>None</td>\n",
       "      <td>None</td>\n",
       "      <td>25.00</td>\n",
       "      <td>None</td>\n",
       "      <td>20220418</td>\n",
       "    </tr>\n",
       "    <tr>\n",
       "      <th>3</th>\n",
       "      <td>7fd2fe13-bbc0-42b7-bc42-3b51910ce118</td>\n",
       "      <td>114.42</td>\n",
       "      <td>925.99</td>\n",
       "      <td>None</td>\n",
       "      <td>74.24</td>\n",
       "      <td>571.50</td>\n",
       "      <td>20220418</td>\n",
       "    </tr>\n",
       "    <tr>\n",
       "      <th>4</th>\n",
       "      <td>6c900f34-1bd2-43c7-be33-cf5cc02a62ea</td>\n",
       "      <td>40.15</td>\n",
       "      <td>None</td>\n",
       "      <td>None</td>\n",
       "      <td>25.00</td>\n",
       "      <td>None</td>\n",
       "      <td>20220419</td>\n",
       "    </tr>\n",
       "  </tbody>\n",
       "</table>\n",
       "</div>"
      ],
      "text/plain": [
       "                                card_id     usd usd_foil usd_etched    eur  \\\n",
       "0  6c900f34-1bd2-43c7-be33-cf5cc02a62ea   40.15     None       None  25.00   \n",
       "1  7fd2fe13-bbc0-42b7-bc42-3b51910ce118  114.42   925.99       None  74.24   \n",
       "2  6c900f34-1bd2-43c7-be33-cf5cc02a62ea   40.15     None       None  25.00   \n",
       "3  7fd2fe13-bbc0-42b7-bc42-3b51910ce118  114.42   925.99       None  74.24   \n",
       "4  6c900f34-1bd2-43c7-be33-cf5cc02a62ea   40.15     None       None  25.00   \n",
       "\n",
       "  eur_foil date_time  \n",
       "0     None  20220417  \n",
       "1   571.50  20220417  \n",
       "2     None  20220418  \n",
       "3   571.50  20220418  \n",
       "4     None  20220419  "
      ]
     },
     "execution_count": 12,
     "metadata": {},
     "output_type": "execute_result"
    }
   ],
   "source": [
    "#SQL query for testing\n",
    "sql_result = conn.execute(\n",
    "    \"\"\" SELECT\n",
    "            *\n",
    "        FROM scryfall_daily_prices\n",
    "        WHERE\n",
    "            card_id = '6c900f34-1bd2-43c7-be33-cf5cc02a62ea'\n",
    "            OR\n",
    "            card_id = '7fd2fe13-bbc0-42b7-bc42-3b51910ce118'\n",
    ";\"\"\")\n",
    "\n",
    "#Obtains the table column names because sqlite query returns only the data.\n",
    "colums_names = [column[0] for column in sql_result.description]\n",
    "#Creates a pandas dataframe qith the query data and the column names.\n",
    "sql_df= pd.DataFrame.from_records(data = sql_result.fetchall(), columns = colums_names)\n",
    "\n",
    "sql_df.head(5)"
   ]
  },
  {
   "cell_type": "code",
   "execution_count": 19,
   "id": "266e9492-66cb-4e21-b68a-d88204cd4789",
   "metadata": {},
   "outputs": [
    {
     "data": {
      "text/html": [
       "<div>\n",
       "<style scoped>\n",
       "    .dataframe tbody tr th:only-of-type {\n",
       "        vertical-align: middle;\n",
       "    }\n",
       "\n",
       "    .dataframe tbody tr th {\n",
       "        vertical-align: top;\n",
       "    }\n",
       "\n",
       "    .dataframe thead th {\n",
       "        text-align: right;\n",
       "    }\n",
       "</style>\n",
       "<table border=\"1\" class=\"dataframe\">\n",
       "  <thead>\n",
       "    <tr style=\"text-align: right;\">\n",
       "      <th></th>\n",
       "      <th>card_id</th>\n",
       "      <th>name</th>\n",
       "      <th>set_name</th>\n",
       "      <th>reserved</th>\n",
       "      <th>rarity</th>\n",
       "      <th>normal</th>\n",
       "      <th>usd</th>\n",
       "      <th>usd_foil</th>\n",
       "      <th>date_time</th>\n",
       "    </tr>\n",
       "  </thead>\n",
       "  <tbody>\n",
       "    <tr>\n",
       "      <th>0</th>\n",
       "      <td>7fd2fe13-bbc0-42b7-bc42-3b51910ce118</td>\n",
       "      <td>Replenish</td>\n",
       "      <td>Urza's Destiny</td>\n",
       "      <td>1</td>\n",
       "      <td>rare</td>\n",
       "      <td>https://c1.scryfall.com/file/scryfall-cards/no...</td>\n",
       "      <td>114.42</td>\n",
       "      <td>925.99</td>\n",
       "      <td>20220417</td>\n",
       "    </tr>\n",
       "    <tr>\n",
       "      <th>1</th>\n",
       "      <td>7fd2fe13-bbc0-42b7-bc42-3b51910ce118</td>\n",
       "      <td>Replenish</td>\n",
       "      <td>Urza's Destiny</td>\n",
       "      <td>1</td>\n",
       "      <td>rare</td>\n",
       "      <td>https://c1.scryfall.com/file/scryfall-cards/no...</td>\n",
       "      <td>114.42</td>\n",
       "      <td>925.99</td>\n",
       "      <td>20220418</td>\n",
       "    </tr>\n",
       "    <tr>\n",
       "      <th>2</th>\n",
       "      <td>7fd2fe13-bbc0-42b7-bc42-3b51910ce118</td>\n",
       "      <td>Replenish</td>\n",
       "      <td>Urza's Destiny</td>\n",
       "      <td>1</td>\n",
       "      <td>rare</td>\n",
       "      <td>https://c1.scryfall.com/file/scryfall-cards/no...</td>\n",
       "      <td>114.42</td>\n",
       "      <td>925.99</td>\n",
       "      <td>20220419</td>\n",
       "    </tr>\n",
       "    <tr>\n",
       "      <th>3</th>\n",
       "      <td>7fd2fe13-bbc0-42b7-bc42-3b51910ce118</td>\n",
       "      <td>Replenish</td>\n",
       "      <td>Urza's Destiny</td>\n",
       "      <td>1</td>\n",
       "      <td>rare</td>\n",
       "      <td>https://c1.scryfall.com/file/scryfall-cards/no...</td>\n",
       "      <td>115.18</td>\n",
       "      <td>590.00</td>\n",
       "      <td>20220420</td>\n",
       "    </tr>\n",
       "    <tr>\n",
       "      <th>4</th>\n",
       "      <td>7fd2fe13-bbc0-42b7-bc42-3b51910ce118</td>\n",
       "      <td>Replenish</td>\n",
       "      <td>Urza's Destiny</td>\n",
       "      <td>1</td>\n",
       "      <td>rare</td>\n",
       "      <td>https://c1.scryfall.com/file/scryfall-cards/no...</td>\n",
       "      <td>115.55</td>\n",
       "      <td>590.00</td>\n",
       "      <td>20220421</td>\n",
       "    </tr>\n",
       "  </tbody>\n",
       "</table>\n",
       "</div>"
      ],
      "text/plain": [
       "                                card_id       name        set_name  reserved  \\\n",
       "0  7fd2fe13-bbc0-42b7-bc42-3b51910ce118  Replenish  Urza's Destiny         1   \n",
       "1  7fd2fe13-bbc0-42b7-bc42-3b51910ce118  Replenish  Urza's Destiny         1   \n",
       "2  7fd2fe13-bbc0-42b7-bc42-3b51910ce118  Replenish  Urza's Destiny         1   \n",
       "3  7fd2fe13-bbc0-42b7-bc42-3b51910ce118  Replenish  Urza's Destiny         1   \n",
       "4  7fd2fe13-bbc0-42b7-bc42-3b51910ce118  Replenish  Urza's Destiny         1   \n",
       "\n",
       "  rarity                                             normal     usd usd_foil  \\\n",
       "0   rare  https://c1.scryfall.com/file/scryfall-cards/no...  114.42   925.99   \n",
       "1   rare  https://c1.scryfall.com/file/scryfall-cards/no...  114.42   925.99   \n",
       "2   rare  https://c1.scryfall.com/file/scryfall-cards/no...  114.42   925.99   \n",
       "3   rare  https://c1.scryfall.com/file/scryfall-cards/no...  115.18   590.00   \n",
       "4   rare  https://c1.scryfall.com/file/scryfall-cards/no...  115.55   590.00   \n",
       "\n",
       "  date_time  \n",
       "0  20220417  \n",
       "1  20220418  \n",
       "2  20220419  \n",
       "3  20220420  \n",
       "4  20220421  "
      ]
     },
     "execution_count": 19,
     "metadata": {},
     "output_type": "execute_result"
    }
   ],
   "source": [
    "#SQL query for testing\n",
    "sql_result = conn.execute(\n",
    "    \"\"\" SELECT\n",
    "            scryfall_cards.card_id,\n",
    "            scryfall_cards.name,\n",
    "            scryfall_cards.set_name,\n",
    "            scryfall_cards.reserved,\n",
    "            scryfall_cards.rarity,\n",
    "            scryfall_cards.normal,\n",
    "            scryfall_daily_prices.usd,\n",
    "            scryfall_daily_prices.usd_foil,\n",
    "            scryfall_daily_prices.date_time\n",
    "        FROM \n",
    "            scryfall_cards\n",
    "        LEFT JOIN \n",
    "            scryfall_daily_prices\n",
    "            ON \n",
    "                scryfall_cards.card_id = scryfall_daily_prices.card_id\n",
    "        WHERE\n",
    "            scryfall_cards.name = 'Replenish'\n",
    "            AND\n",
    "            scryfall_cards.set_name = 'Urza''s Destiny'\n",
    ";\"\"\")\n",
    "\n",
    "\n",
    "#Obtains the table column names because sqlite query returns only the data.\n",
    "colums_names = [column[0] for column in sql_result.description]\n",
    "#Creates a pandas dataframe qith the query data and the column names.\n",
    "sql_df= pd.DataFrame.from_records(data = sql_result.fetchall(), columns = colums_names)\n",
    "\n",
    "sql_df.head(10)"
   ]
  },
  {
   "cell_type": "markdown",
   "id": "d1faaea8-4ba0-445a-95a6-f6abfccc2b75",
   "metadata": {},
   "source": [
    "#### Close connection to DB"
   ]
  },
  {
   "cell_type": "code",
   "execution_count": 22,
   "id": "37731f40-acaf-474b-867e-a35eebd235c6",
   "metadata": {},
   "outputs": [],
   "source": [
    "#Close connection\n",
    "conn.close()"
   ]
  },
  {
   "cell_type": "code",
   "execution_count": 20,
   "id": "a29240df-50c1-4b60-b55a-852fd3b01984",
   "metadata": {},
   "outputs": [],
   "source": [
    "#SQL query for testing\n",
    "sql_result = conn.execute(\n",
    "    \"\"\" SELECT\n",
    "            scryfall_cards.card_id,\n",
    "            scryfall_cards.name,\n",
    "            scryfall_cards.set_name,\n",
    "            scryfall_cards.reserved,\n",
    "            scryfall_cards.rarity,\n",
    "            scryfall_cards.normal,\n",
    "            scryfall_daily_prices.usd,\n",
    "            scryfall_daily_prices.usd_foil,\n",
    "            scryfall_daily_prices.date_time\n",
    "        FROM \n",
    "            scryfall_cards\n",
    "        LEFT JOIN \n",
    "            scryfall_daily_prices\n",
    "            ON \n",
    "                scryfall_cards.card_id = scryfall_daily_prices.card_id\n",
    ";\"\"\")\n",
    "\n",
    "\n",
    "#Obtains the table column names because sqlite query returns only the data.\n",
    "colums_names = [column[0] for column in sql_result.description]\n",
    "#Creates a pandas dataframe qith the query data and the column names.\n",
    "sql_df= pd.DataFrame.from_records(data = sql_result.fetchall(), columns = colums_names)\n",
    "\n",
    "sql_df.to_csv('scryfall_' + date_time + '.csv', sep=\";\", index=False)"
   ]
  },
  {
   "cell_type": "code",
   "execution_count": null,
   "id": "de26bb89-6916-4925-9b1a-b62bf036c2a4",
   "metadata": {},
   "outputs": [],
   "source": []
  }
 ],
 "metadata": {
  "kernelspec": {
   "display_name": "Python 3 (ipykernel)",
   "language": "python",
   "name": "python3"
  },
  "language_info": {
   "codemirror_mode": {
    "name": "ipython",
    "version": 3
   },
   "file_extension": ".py",
   "mimetype": "text/x-python",
   "name": "python",
   "nbconvert_exporter": "python",
   "pygments_lexer": "ipython3",
   "version": "3.10.4"
  }
 },
 "nbformat": 4,
 "nbformat_minor": 5
}
