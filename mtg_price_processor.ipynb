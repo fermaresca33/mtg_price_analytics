{
 "cells": [
  {
   "cell_type": "markdown",
   "id": "da6f5b9c-a9cb-4d16-8463-62500fe07cae",
   "metadata": {},
   "source": [
    "# ScryfallPrice Trend Harvester"
   ]
  },
  {
   "cell_type": "markdown",
   "id": "ed5e5e34-145c-4553-8f09-cd0a2d2fc2db",
   "metadata": {},
   "source": [
    "This program extracts magic the gathering (mtg) card price data (MKM Trend) at the time the code is run. It can also be used to gather a myriad of other card details that are provided in Sryfall's public API"
   ]
  },
  {
   "cell_type": "code",
   "execution_count": 15,
   "id": "149f1b0f-2412-42e6-8dff-aac49e6cf137",
   "metadata": {},
   "outputs": [],
   "source": [
    "#Import libreries\n",
    "import requests\n",
    "import pandas as pd\n",
    "import datetime"
   ]
  },
  {
   "cell_type": "markdown",
   "id": "7b668bbd-d6c7-483f-9699-c168228b1f81",
   "metadata": {},
   "source": [
    "#### Setup"
   ]
  },
  {
   "cell_type": "code",
   "execution_count": 16,
   "id": "b02d2bb2-9f15-4e47-af9c-0ab99d13008d",
   "metadata": {},
   "outputs": [],
   "source": [
    "DEBUG = False\n",
    "\n",
    "if DEBUG:\n",
    "    pd.set_option('display.max_colwidth', None)"
   ]
  },
  {
   "cell_type": "markdown",
   "id": "4a33b00a-7c6e-41a4-88c1-3fd6efebb7ef",
   "metadata": {},
   "source": [
    "### Specific Cards Queries and Discovery Zone"
   ]
  },
  {
   "cell_type": "markdown",
   "id": "e901e7f9-022b-4466-b386-f094d24a8876",
   "metadata": {},
   "source": [
    "See Scryfal REST API Docs at https://scryfall.com/docs/api\n",
    "\n",
    "In this example I am just using q=cmc:12, to query all cards with converted mana cost (cmc) of 12. But there are loads of other parameters you could use instead and you can learn about them in the cards section of the API docs at the above link."
   ]
  },
  {
   "cell_type": "code",
   "execution_count": 17,
   "id": "27a4c82f-ef49-47e3-b6cc-fac80c6149c7",
   "metadata": {},
   "outputs": [
    {
     "name": "stdout",
     "output_type": "stream",
     "text": [
      "200\n"
     ]
    }
   ],
   "source": [
    "#Get a response object\n",
    "api_response = requests.get('https://api.scryfall.com/cards/search?q=cmc:12')\n",
    "print(api_response.status_code) #should be 200=ok\n",
    "#print(response.content)"
   ]
  },
  {
   "cell_type": "code",
   "execution_count": 18,
   "id": "2c229fd4-b515-428c-85d1-eb8d7f262099",
   "metadata": {},
   "outputs": [],
   "source": [
    "#Look at response content\n",
    "type(api_response.content) #bytes\n",
    "\n",
    "#Translate the response object's content from bytes to dictionary object so \n",
    "#it can be easily manipulate it.\n",
    "api_json = api_response.json() #.json() converts from bytes to dictionary\n",
    "\n",
    "#Turn dictionary into a pandas Data frame.\n",
    "cards_df = pd.DataFrame(api_json[\"data\"])\n",
    "\n",
    "#[Debug]\n",
    "if DEBUG:\n",
    "    #All columns types and info\n",
    "    cards_df.info(verbose=True)\n",
    "    #Summary of the first 3 rows\n",
    "    print(cards_df.head(3))"
   ]
  },
  {
   "cell_type": "markdown",
   "id": "3326da6b-892b-4a96-9621-d6156054d0c9",
   "metadata": {},
   "source": [
    "#### Prices column \n",
    "(a dictionary of prices)\n",
    "\n",
    "Ejemplo: {'usd': '76.45', 'usd_foil': '81.20', 'usd_etched': None, 'eur': '38.64', 'eur_foil': '43.93', 'tix': '1.12'}"
   ]
  },
  {
   "cell_type": "code",
   "execution_count": 19,
   "id": "38db37a2-87d0-4d89-8c3a-5a3d3796a875",
   "metadata": {},
   "outputs": [],
   "source": [
    "#[Debug]\n",
    "if DEBUG:\n",
    "    print(cards_df['prices'].head(2))"
   ]
  },
  {
   "cell_type": "markdown",
   "id": "86480546-4f5a-4aa2-ad97-4f33f00f80a8",
   "metadata": {},
   "source": [
    "### Getting Bulk Data"
   ]
  },
  {
   "cell_type": "markdown",
   "id": "e69baeaa-463b-4f1e-9c91-72a4547ba7c9",
   "metadata": {},
   "source": [
    "Downloading the full card json that is generated every day.\n",
    "More info about it in: https://scryfall.com/docs/api/bulk-data"
   ]
  },
  {
   "cell_type": "code",
   "execution_count": 20,
   "id": "df0c4cce-429d-419a-be8e-602b4f0870cd",
   "metadata": {},
   "outputs": [
    {
     "name": "stdout",
     "output_type": "stream",
     "text": [
      "200\n"
     ]
    }
   ],
   "source": [
    "api_response = requests.get('https://api.scryfall.com/bulk-data/default-cards')\n",
    "print(api_response.status_code) #should be 200=ok"
   ]
  },
  {
   "cell_type": "code",
   "execution_count": 21,
   "id": "401aca3a-33fc-41bb-aa0d-067387605959",
   "metadata": {},
   "outputs": [],
   "source": [
    "#Translate the response object's content from bytes to dictionary object so \n",
    "#it can be easily manipulate it\n",
    "api_json = api_response.json() #.json() converts from bytes to dictionary\n",
    "\n",
    "#[Debug]\n",
    "if DEBUG:\n",
    "    print(api_json['download_uri'])"
   ]
  },
  {
   "cell_type": "code",
   "execution_count": 22,
   "id": "8a371d79-7a61-4f0f-8eac-cc4a3471b796",
   "metadata": {},
   "outputs": [],
   "source": [
    "#Get cards information from bulk data in the responsed url.\n",
    "bulk_url_json = requests.get(api_json['download_uri'], allow_redirects=True)\n",
    "\n",
    "##Save data as json file in disk\n",
    "#file_size = open('default_cards.json', 'wb').write(bulk_url_json.content)\n",
    "#[Debug]\n",
    "#if DEBUG:\n",
    "    #print(\"Json downloaded correctly. File size: \" + str(file_size))\n",
    "\n",
    "##Save data to pandas\n",
    "#Load json data to a pandas Data frame.\n",
    "url_json = bulk_url_json.json() #.json() converts from bytes to dictionary\n",
    "cards_bulk_df = pd.DataFrame(url_json)\n",
    "#[Debug]\n",
    "if DEBUG:\n",
    "    #All columns types and info\n",
    "    cards_bulk_df.info(verbose=True)\n",
    "    #Summary of the first 3 rows\n",
    "    print(cards_bulk_df.head(3))"
   ]
  },
  {
   "cell_type": "markdown",
   "id": "a90d4543-4f2b-401c-86ad-c9745f2a6c5f",
   "metadata": {},
   "source": [
    "#### Prices column \n",
    "(a dictionary of prices)\n",
    "\n",
    "Ejemplo: {'usd': '76.45', 'usd_foil': '81.20', 'usd_etched': None, 'eur': '38.64', 'eur_foil': '43.93', 'tix': '1.12'}"
   ]
  },
  {
   "cell_type": "code",
   "execution_count": 23,
   "id": "9e4ceb49-f2c1-4e14-9f05-31e9811b4e16",
   "metadata": {},
   "outputs": [],
   "source": [
    "#[Debug]\n",
    "if DEBUG:\n",
    "    print(cards_bulk_df['prices'].head(2))"
   ]
  },
  {
   "cell_type": "code",
   "execution_count": null,
   "id": "696fdb25-702c-42fa-af31-d7ea9c54115d",
   "metadata": {},
   "outputs": [],
   "source": []
  },
  {
   "cell_type": "code",
   "execution_count": null,
   "id": "eb976dd4-c951-4cb5-964c-1c918b82a06c",
   "metadata": {},
   "outputs": [],
   "source": []
  }
 ],
 "metadata": {
  "kernelspec": {
   "display_name": "Python 3 (ipykernel)",
   "language": "python",
   "name": "python3"
  },
  "language_info": {
   "codemirror_mode": {
    "name": "ipython",
    "version": 3
   },
   "file_extension": ".py",
   "mimetype": "text/x-python",
   "name": "python",
   "nbconvert_exporter": "python",
   "pygments_lexer": "ipython3",
   "version": "3.10.4"
  }
 },
 "nbformat": 4,
 "nbformat_minor": 5
}
