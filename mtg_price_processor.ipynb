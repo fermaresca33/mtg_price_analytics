{
 "cells": [
  {
   "cell_type": "code",
   "execution_count": 1,
   "id": "149f1b0f-2412-42e6-8dff-aac49e6cf137",
   "metadata": {},
   "outputs": [],
   "source": [
    "#import dependencies\n",
    "import requests\n",
    "#pull in api keys from config file\n",
    "from config import public_key, private_key"
   ]
  },
  {
   "cell_type": "code",
   "execution_count": null,
   "id": "27a4c82f-ef49-47e3-b6cc-fac80c6149c7",
   "metadata": {},
   "outputs": [],
   "source": [
    "#construct api request\n",
    "response = requests.post(\n",
    "            \"https://api.tcgplayer.com/token\",\n",
    "            \n",
    "            headers={\n",
    "                \"Content-Type\": \"application/json\",\n",
    "                \"Accept\": \"application/json\"},\n",
    "           \n",
    "            data=(f\"grant_type=client_credentials\"\n",
    "                  f\"&client_id={public_key}&\"\n",
    "                  f\"client_secret={private_key}\")\n",
    "        )"
   ]
  },
  {
   "cell_type": "code",
   "execution_count": null,
   "id": "df0c4cce-429d-419a-be8e-602b4f0870cd",
   "metadata": {},
   "outputs": [],
   "source": []
  },
  {
   "cell_type": "code",
   "execution_count": null,
   "id": "401aca3a-33fc-41bb-aa0d-067387605959",
   "metadata": {},
   "outputs": [],
   "source": []
  },
  {
   "cell_type": "code",
   "execution_count": null,
   "id": "9e4ceb49-f2c1-4e14-9f05-31e9811b4e16",
   "metadata": {},
   "outputs": [],
   "source": []
  },
  {
   "cell_type": "code",
   "execution_count": null,
   "id": "696fdb25-702c-42fa-af31-d7ea9c54115d",
   "metadata": {},
   "outputs": [],
   "source": []
  },
  {
   "cell_type": "code",
   "execution_count": null,
   "id": "eb976dd4-c951-4cb5-964c-1c918b82a06c",
   "metadata": {},
   "outputs": [],
   "source": []
  }
 ],
 "metadata": {
  "kernelspec": {
   "display_name": "Python 3 (ipykernel)",
   "language": "python",
   "name": "python3"
  },
  "language_info": {
   "codemirror_mode": {
    "name": "ipython",
    "version": 3
   },
   "file_extension": ".py",
   "mimetype": "text/x-python",
   "name": "python",
   "nbconvert_exporter": "python",
   "pygments_lexer": "ipython3",
   "version": "3.10.4"
  }
 },
 "nbformat": 4,
 "nbformat_minor": 5
}
